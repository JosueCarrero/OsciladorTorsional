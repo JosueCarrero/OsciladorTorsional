{
 "cells": [
  {
   "cell_type": "markdown",
   "metadata": {},
   "source": [
    "$Torque Mecanico$"
   ]
  },
  {
   "cell_type": "code",
   "execution_count": 137,
   "metadata": {},
   "outputs": [
    {
     "name": "stdout",
     "output_type": "stream",
     "text": [
      "Columna \"Peso(gm)\": [50.0, 100.0, 150.0, 200.0, 250.0, 300.0, 400.0]\n",
      "Columna \"Angulo equilibrio(rad)\": [3.05, 3.08, 3.11, 3.13, 3.15, 3.17, 3.19]\n",
      "Columna \"Torque\": [0.0074088, 0.0148176, 0.0222264, 0.0296352, 0.037044, 0.0444528, 0.0592704]\n"
     ]
    }
   ],
   "source": [
    "import csv\n",
    "\n",
    "# Nombre del archivo CSV\n",
    "archivo_csv = \"mecanico.csv\"\n",
    "\n",
    "# Diccionario para almacenar las listas por columna\n",
    "columnas = {}\n",
    "\n",
    "# Abrir el archivo CSV y leer los datos\n",
    "with open(archivo_csv, newline='', encoding='utf-8') as csvfile:\n",
    "    reader = csv.reader(csvfile)\n",
    "    \n",
    "    # Leer la primera fila que contiene los encabezados\n",
    "    encabezados = next(reader)\n",
    "    \n",
    "    # Inicializar listas vacías en el diccionario por cada encabezado\n",
    "    for encabezado in encabezados:\n",
    "        columnas[encabezado] = []\n",
    "\n",
    "    # Leer los datos de cada fila, convertir a float y agregarlos a las listas correspondientes\n",
    "    for fila in reader:\n",
    "        for i, valor in enumerate(fila):\n",
    "            valor_float = float(valor) if valor.strip() != \"\" else None\n",
    "            columnas[encabezados[i]].append(valor_float)\n",
    "\n",
    "# Imprimir las listas por columna\n",
    "for encabezado, lista in columnas.items():\n",
    "    print(f'Columna \"{encabezado}\": {lista}')"
   ]
  },
  {
   "cell_type": "code",
   "execution_count": 138,
   "metadata": {},
   "outputs": [
    {
     "data": {
      "image/png": "[encoded data removed]",
      "text/plain": [
       "<Figure size 576x432 with 2 Axes>"
      ]
     },
     "metadata": {
      "needs_background": "light"
     },
     "output_type": "display_data"
    },
    {
     "name": "stdout",
     "output_type": "stream",
     "text": [
      "Incertidumbre de la pendiente: 0.03\n"
     ]
    }
   ],
   "source": [
    "import pandas as pd\n",
    "import numpy as np\n",
    "import matplotlib.pyplot as plt\n",
    "from scipy import stats\n",
    "\n",
    "data = pd.read_csv('mecanico.csv')\n",
    "\n",
    "# Especifica las columnas que deseas graficar\n",
    "x_column = 'Angulo equilibrio(rad)'\n",
    "y_column = 'Torque'\n",
    "\n",
    "# Extraer los valores de las columnas\n",
    "x = data[x_column]\n",
    "y = data[y_column]\n",
    "\n",
    "# Realizar la regresión lineal\n",
    "slope, intercept, r_value, p_value, std_err = stats.linregress(x, y)\n",
    "\n",
    "# Calcular los valores predichos\n",
    "predicted_y = slope * x + intercept\n",
    "\n",
    "# Calcular los residuales\n",
    "residuals = y - predicted_y\n",
    "\n",
    "# Calcular las barras de error basadas en los residuales\n",
    "error_bars = 1.96 * np.std(residuals)  # 95% intervalo de confianza\n",
    "\n",
    "# Crear una figura con dos subgráficos\n",
    "fig, (ax1, ax2) = plt.subplots(2, 1, figsize=(8, 6), sharex=True)\n",
    "\n",
    "# Gráfico de los datos y la regresión lineal en el subgráfico superior\n",
    "ax1.scatter(x, y, label='Datos (Puntos Azules)', color='blue', marker='o', edgecolor='black', s=50)\n",
    "ax1.plot(x, predicted_y, color='red', label=f'Regresión lineal: y = {slope:.2f}x + {intercept:.2f}')\n",
    "ax1.set_ylabel('Torque (N/m)')  # Cambia el nombre del eje y\n",
    "ax1.set_yticks(np.arange(0.01, 0.07, 0.01))  # Establece los valores en el eje y\n",
    "ax1.legend(loc='upper left')\n",
    "legend_text = f'Regresión lineal: y = {slope:.2f}x + {intercept:.2f}\\n$R^2$ = {r_value ** 2:.2f}'\n",
    "ax1.legend([legend_text], loc='upper left')\n",
    "\n",
    "# Mostrar las barras de error en cada dato\n",
    "for i in range(len(x)):\n",
    "    ax1.errorbar(x[i], y[i], yerr=error_bars, fmt='none', color='black', alpha=0.5)\n",
    "\n",
    "# Gráfico de los residuales en el subgráfico inferior\n",
    "ax2.scatter(x, residuals, label='Residuales', color='green')\n",
    "ax2.axhline(0, color='black', linestyle='--', linewidth=0.8)  # Línea horizontal en 0\n",
    "ax2.set_xlabel(x_column)\n",
    "ax2.set_ylabel('Residuales')\n",
    "ax2.legend(loc='upper left')\n",
    "\n",
    "# Ajustar el espacio entre los subgráficos\n",
    "plt.subplots_adjust(hspace=0.1)\n",
    "\n",
    "# Mostrar el gráfico\n",
    "plt.grid()\n",
    "plt.show()\n",
    "print(f'Incertidumbre de la pendiente: {std_err:.2f}')"
   ]
  },
  {
   "cell_type": "markdown",
   "metadata": {},
   "source": [
    "$Momento Inercial$"
   ]
  },
  {
   "cell_type": "code",
   "execution_count": 123,
   "metadata": {},
   "outputs": [
    {
     "name": "stdout",
     "output_type": "stream",
     "text": [
      "Columna \"(T/2pi)^2\": [0.034, 0.039, 0.043, 0.047, 0.054]\n",
      "Columna \"N de latones\": [0.0, 1.0, 2.0, 3.0, 4.0]\n",
      "Columna \"Periodo(s)\": [1.16, 1.24, 1.3, 1.36, 1.46]\n"
     ]
    }
   ],
   "source": [
    "import csv\n",
    "\n",
    "archivo_csv = \"inercia.csv\"\n",
    "\n",
    "columnas = {}\n",
    "\n",
    "with open(archivo_csv, newline='', encoding='utf-8') as csvfile:\n",
    "    reader = csv.reader(csvfile)\n",
    "    \n",
    "    \n",
    "    encabezados = next(reader)\n",
    "    \n",
    "   \n",
    "    for encabezado in encabezados:\n",
    "        columnas[encabezado] = []\n",
    "\n",
    "    \n",
    "    for fila in reader:\n",
    "        for i, valor in enumerate(fila):\n",
    "            valor_float = float(valor) if valor.strip() != \"\" else None\n",
    "            columnas[encabezados[i]].append(valor_float)\n",
    "\n",
    "\n",
    "for encabezado, lista in columnas.items():\n",
    "    print(f'Columna \"{encabezado}\": {lista}')"
   ]
  },
  {
   "cell_type": "code",
   "execution_count": 124,
   "metadata": {},
   "outputs": [
    {
     "data": {
      "text/plain": [
       "[0.034, 0.039, 0.043, 0.047, 0.054]"
      ]
     },
     "execution_count": 124,
     "metadata": {},
     "output_type": "execute_result"
    }
   ],
   "source": [
    "Y = columnas[\"(T/2pi)^2\"] #s^2\n",
    "Y"
   ]
  },
  {
   "cell_type": "code",
   "execution_count": 125,
   "metadata": {},
   "outputs": [
    {
     "data": {
      "text/plain": [
       "[0.0, 1.0, 2.0, 3.0, 4.0]"
      ]
     },
     "execution_count": 125,
     "metadata": {},
     "output_type": "execute_result"
    }
   ],
   "source": [
    "X = columnas[\"N de latones\"] # adimensional\n",
    "X"
   ]
  },
  {
   "cell_type": "code",
   "execution_count": 126,
   "metadata": {},
   "outputs": [
    {
     "name": "stdout",
     "output_type": "stream",
     "text": [
      "Barras de error para (T/2π)^2: [0.05862069 0.06290323 0.06615385 0.06911765 0.0739726 ]\n"
     ]
    }
   ],
   "source": [
    "import numpy as np\n",
    "\n",
    "# Datos\n",
    "T_over_2pi_squared = np.array([0.034, 0.039, 0.043, 0.047, 0.054])\n",
    "T_s = np.array([1.16, 1.24, 1.30, 1.36, 1.46])\n",
    "\n",
    "# Calcular las barras de error para (T/2π)^2\n",
    "error_Y = np.abs(2 * T_over_2pi_squared / T_s)  # Fórmula de propagación de errores\n",
    "\n",
    "# Mostrar las barras de error calculadas\n",
    "print(\"Barras de error para (T/2π)^2:\", error_Y)\n"
   ]
  },
  {
   "cell_type": "code",
   "execution_count": 127,
   "metadata": {},
   "outputs": [
    {
     "data": {
      "image/png": "[encoded data removed]",
      "text/plain": [
       "<Figure size 432x288 with 1 Axes>"
      ]
     },
     "metadata": {
      "needs_background": "light"
     },
     "output_type": "display_data"
    },
    {
     "name": "stdout",
     "output_type": "stream",
     "text": [
      "La incertidumbre en el pendiente es de 0.0003 s^2\n",
      "La incertidumbre en el intercepto es de 0.0007 s^2\n"
     ]
    }
   ],
   "source": [
    "import numpy as np\n",
    "import matplotlib.pyplot as plt\n",
    "from scipy.stats import linregress\n",
    "\n",
    "# Barras de error en el eje y (ajusta estos valores según tus datos reales)\n",
    "error_Y = np.array([0.05862069, 0.06290323, 0.06615385, 0.06911765, 0.0739726])\n",
    "\n",
    "# Realizar la regresión por mínimos cuadrados\n",
    "slope, intercept, r_value, p_value, std_err = linregress(X, Y)\n",
    "regression_line = [(slope * x) + intercept for x in X]\n",
    "Label = r\"$\\left(\\frac{T}{2\\pi}\\right)^2$\"\n",
    "\n",
    "#Incertidumbre de la pendiente y de el intercepto en y\n",
    "\n",
    "delta_m = std_err\n",
    "delta_b = std_err * np.sqrt(np.mean(np.array(X)**2))\n",
    "\n",
    "# Calcular los residuales\n",
    "residuales = [y - ((slope * x) + intercept) for x, y in zip(X, Y)]\n",
    "\n",
    "# Crear la gráfica\n",
    "plt.scatter(X, Y, label='Datos', color='blue')\n",
    "# Agregar barras de error en el eje y\n",
    "plt.errorbar(X, Y, yerr=error_Y, fmt='none', color='black', alpha=0.5)\n",
    "plt.plot(X, regression_line, label=f'{Label} = {slope:.4f} $s^2$ N + {intercept:.4f} $s^2$', color='black', linestyle='dotted')\n",
    "plt.scatter(X, residuales, label='Residuales', alpha=0.4, color='green')\n",
    "\n",
    "plt.xlabel('N (número de latones)')\n",
    "plt.ylabel(r'$\\left(\\frac{T}{2\\pi}\\right)^2 \\; \\; \\; \\; \\; (s^2)$')\n",
    "plt.title('Momento de inercia')\n",
    "legend = plt.legend()\n",
    "legend.set_frame_on(False)  # Remover el rectángulo de la leyenda\n",
    "\n",
    "# Mostrar la gráfica\n",
    "plt.show()\n",
    "\n",
    "\n",
    "print(f\"La incertidumbre en el pendiente es de {round(delta_m,4)} s^2\")\n",
    "print(f\"La incertidumbre en el intercepto es de {round(delta_b,4)} s^2\")\n",
    "\n"
   ]
  },
  {
   "cell_type": "code",
   "execution_count": 46,
   "metadata": {},
   "outputs": [],
   "source": [
    "import sympy as sp\n",
    "\n",
    "def propagacion_de_error(expr, variables, errores):\n",
    "    \"\"\"\n",
    "    Calcula el error propagado para una expresión dada utilizando el método de derivadas parciales.\n",
    "    \"\"\"\n",
    "    symbols = sp.symbols(variables)\n",
    "    expr = sp.sympify(expr)\n",
    "    \n",
    "    derivadas = [sp.diff(expr, var) for var in symbols]\n",
    "    error_propagado = sp.sqrt(sum([(derivada * error)**2 for derivada, error in zip(derivadas, errores)]))\n",
    "    \n",
    "    return error_propagado.evalf()"
   ]
  },
  {
   "cell_type": "code",
   "execution_count": 119,
   "metadata": {},
   "outputs": [
    {
     "name": "stdout",
     "output_type": "stream",
     "text": [
      "0.00028184233999999997\n"
     ]
    },
    {
     "data": {
      "text/latex": [
       "$\\displaystyle 0.0001 \\left(M^{2} R^{2} + M^{2} r^{2} + 0.25 \\left(R^{2} + r^{2}\\right)^{2}\\right)^{0.5}$"
      ],
      "text/plain": [
       "0.0001*(M**2*R**2 + M**2*r**2 + 0.25*(R**2 + r**2)**2)**0.5"
      ]
     },
     "execution_count": 119,
     "metadata": {},
     "output_type": "execute_result"
    }
   ],
   "source": [
    "r = 2.33E-2 #Radio interno del disco en m\n",
    "dr = 1.00E-4 #Incertidumbre en el radio interno del disco en m\n",
    "\n",
    "R= 4.60E-2 #Radio externo del disco en m\n",
    "dR = 1.00E-4 #Incertidumbre en el radio externo del disco en m\n",
    "\n",
    "M = 212.0E-3 #Masa del disco en Kg\n",
    "dM = 0.1E-3 #Incertidumbre en la masa del disco en Kg\n",
    "\n",
    "#Propagacion de error del momento de inercia de un disco DI\n",
    "\n",
    "DI = (1/2)*(M)*(r**2 + R**2) #Momento de inercia de un disco en Kg m^2\n",
    "pre_prop_DI = \"(1/2)*(M)*(r**2 + R**2)\"\n",
    "var_DI = ['M', 'r', 'R']\n",
    "errs_DI = [dM, dr, dR]\n",
    "prop_DI = propagacion_de_error(pre_prop_DI, var_DI, errs_DI)\n",
    "print(DI)\n",
    "prop_DI\n"
   ]
  },
  {
   "cell_type": "code",
   "execution_count": 120,
   "metadata": {},
   "outputs": [
    {
     "name": "stdout",
     "output_type": "stream",
     "text": [
      "0.000282 1e-06\n"
     ]
    }
   ],
   "source": [
    "#Inecetidumbre en el momento de inercia de un disco en Kg m^2\n",
    "dDI = 0.0001 * np.sqrt((M*R)**2 + (M*r)**2 + 0.25*(r**2 + R**2)**2)\n",
    "\n",
    "print(round(DI,6),round(dDI,6))"
   ]
  },
  {
   "cell_type": "code",
   "execution_count": 129,
   "metadata": {},
   "outputs": [
    {
     "data": {
      "text/latex": [
       "$\\displaystyle 0.00245649797074292 \\left(b^{2} + 0.0812013520592795 k^{2}\\right)^{0.5}$"
      ],
      "text/plain": [
       "0.00245649797074292*(b**2 + 0.0812013520592795*k**2)**0.5"
      ]
     },
     "execution_count": 129,
     "metadata": {},
     "output_type": "execute_result"
    }
   ],
   "source": [
    "#Propagacion de error del momento de inercia inicial\n",
    "\n",
    "I = b*k #Momento de inercia inicial en Kg m^2\n",
    "pre_prop_I = \"b*k\"\n",
    "var_I = ['b', 'k']\n",
    "errs_I = [db, dk]\n",
    "prop_I = propagacion_de_error(pre_prop_I, var_I, errs_I)\n",
    "\n",
    "prop_I"
   ]
  },
  {
   "cell_type": "markdown",
   "metadata": {},
   "source": [
    "$Momento Magnetico$"
   ]
  },
  {
   "cell_type": "code",
   "execution_count": 130,
   "metadata": {},
   "outputs": [
    {
     "name": "stdout",
     "output_type": "stream",
     "text": [
      "Columna \"Corriente(A)\": [0.25, 0.37, 0.5, 0.63, 0.75, 0.88, 1.0]\n",
      "Columna \"angulo en equilibrio (rad)\": [3.18, 3.25, 3.32, 3.4, 3.46, 3.52, 3.58]\n"
     ]
    }
   ],
   "source": [
    "import csv\n",
    "\n",
    "# Nombre del archivo CSV\n",
    "archivo_csv = \"magnetico.csv\"\n",
    "\n",
    "# Diccionario para almacenar las listas por columna\n",
    "columnas = {}\n",
    "\n",
    "# Abrir el archivo CSV y leer los datos\n",
    "with open(archivo_csv, newline='', encoding='utf-8') as csvfile:\n",
    "    reader = csv.reader(csvfile)\n",
    "    \n",
    "    # Leer la primera fila que contiene los encabezados\n",
    "    encabezados = next(reader)\n",
    "    \n",
    "    # Inicializar listas vacías en el diccionario por cada encabezado\n",
    "    for encabezado in encabezados:\n",
    "        columnas[encabezado] = []\n",
    "\n",
    "    # Leer los datos de cada fila, convertir a float y agregarlos a las listas correspondientes\n",
    "    for fila in reader:\n",
    "        for i, valor in enumerate(fila):\n",
    "            valor_float = float(valor) if valor.strip() != \"\" else None\n",
    "            columnas[encabezados[i]].append(valor_float)\n",
    "\n",
    "# Imprimir las listas por columna\n",
    "for encabezado, lista in columnas.items():\n",
    "    print(f'Columna \"{encabezado}\": {lista}')"
   ]
  },
  {
   "cell_type": "code",
   "execution_count": 142,
   "metadata": {},
   "outputs": [
    {
     "data": {
      "image/png": "[encoded data removed]",
      "text/plain": [
       "<Figure size 576x432 with 2 Axes>"
      ]
     },
     "metadata": {
      "needs_background": "light"
     },
     "output_type": "display_data"
    },
    {
     "name": "stdout",
     "output_type": "stream",
     "text": [
      "Incertidumbre de la pendiente: 0.04\n"
     ]
    }
   ],
   "source": [
    "import pandas as pd\n",
    "import numpy as np\n",
    "import matplotlib.pyplot as plt\n",
    "from scipy import stats\n",
    "\n",
    "data = pd.read_csv('magnetico.csv')\n",
    "\n",
    "# Especifica las columnas que deseas graficar\n",
    "x_column = 'angulo en equilibrio (rad)'\n",
    "y_column = 'Corriente(A)'\n",
    "\n",
    "# Extraer los valores de las columnas\n",
    "x = data[x_column]\n",
    "y = data[y_column]\n",
    "\n",
    "# Realizar la regresión lineal\n",
    "slope, intercept, r_value, p_value, std_err = stats.linregress(x, y)\n",
    "\n",
    "# Calcular los valores predichos\n",
    "predicted_y = slope * x + intercept\n",
    "\n",
    "# Calcular los residuales\n",
    "residuals = y - predicted_y\n",
    "\n",
    "# Calcular las barras de error basadas en los residuales\n",
    "error_bars = 1.96 * np.std(residuals)  # 95% intervalo de confianza\n",
    "\n",
    "# Crear una figura con dos subgráficos\n",
    "fig, (ax1, ax2) = plt.subplots(2, 1, figsize=(8, 6), sharex=True)\n",
    "\n",
    "# Gráfico de los datos y la regresión lineal en el subgráfico superior\n",
    "ax1.scatter(x, y, label='Datos (Puntos Azules)', color='blue', marker='o', edgecolor='black', s=50)\n",
    "ax1.plot(x, predicted_y, color='red', label=f'Regresión lineal: y = {slope:.2f}x + {intercept:.2f}')\n",
    "ax1.set_ylabel('Corriente(A)')  # Cambia el nombre del eje y\n",
    "ax1.set_yticks(np.arange(0, 2, 0.2))  # Establece los valores en el eje y\n",
    "ax1.legend(loc='upper left')\n",
    "legend_text = f'Regresión lineal: y = {slope:.2f}x + {intercept:.2f}\\n$R^2$ = {r_value ** 2:.2f}'\n",
    "ax1.legend([legend_text], loc='upper left')\n",
    "\n",
    "# Mostrar las barras de error en cada dato\n",
    "for i in range(len(x)):\n",
    "    ax1.errorbar(x[i], y[i], yerr=error_bars, fmt='none', color='black', alpha=0.5)\n",
    "\n",
    "# Gráfico de los residuales en el subgráfico inferior\n",
    "ax2.scatter(x, residuals, label='Residuales', color='green')\n",
    "ax2.axhline(0, color='black', linestyle='--', linewidth=0.8)  # Línea horizontal en 0\n",
    "ax2.set_xlabel(x_column)\n",
    "ax2.set_ylabel('Residuales')\n",
    "ax2.legend(loc='upper left')\n",
    "\n",
    "# Ajustar el espacio entre los subgráficos\n",
    "plt.subplots_adjust(hspace=0.1)\n",
    "\n",
    "# Mostrar el gráfico\n",
    "plt.grid()\n",
    "plt.show()\n",
    "print(f'Incertidumbre de la pendiente: {std_err:.2f}')"
   ]
  },
  {
   "cell_type": "code",
   "execution_count": 150,
   "metadata": {},
   "outputs": [
    {
     "name": "stdout",
     "output_type": "stream",
     "text": [
      "Corriente: 0.25 A, Ángulo: 3.18 rad, Momento Magnético: 0.05 Am²\n",
      "Corriente: 0.37 A, Ángulo: 3.25 rad, Momento Magnético: 0.07 Am²\n",
      "Corriente: 0.5 A, Ángulo: 3.32 rad, Momento Magnético: 0.10 Am²\n",
      "Corriente: 0.63 A, Ángulo: 3.4 rad, Momento Magnético: 0.12 Am²\n",
      "Corriente: 0.75 A, Ángulo: 3.46 rad, Momento Magnético: 0.15 Am²\n",
      "Corriente: 0.88 A, Ángulo: 3.52 rad, Momento Magnético: 0.18 Am²\n",
      "Corriente: 1.0 A, Ángulo: 3.58 rad, Momento Magnético: 0.21 Am²\n",
      "Promedio del Momento Magnético del Oscilador: 0.12 Am²\n"
     ]
    }
   ],
   "source": [
    "import pandas as pd\n",
    "import numpy as np\n",
    "\n",
    "# Crear un DataFrame con los datos\n",
    "data = pd.DataFrame({\n",
    "    'Corriente(A)': [0.25, 0.37, 0.5, 0.63, 0.75, 0.88, 1],\n",
    "    'angulo en equilibrio (rad)': [3.18, 3.25, 3.32, 3.4, 3.46, 3.52, 3.58]\n",
    "})\n",
    "\n",
    "# Valor conocido de la constante de torsión (k) en N*m/A\n",
    "k = 0.058  # N*m/A\n",
    "\n",
    "# Extraer los valores de corriente y ángulo\n",
    "corrientes = data['Corriente(A)']\n",
    "angulos = data['angulo en equilibrio (rad)']\n",
    "\n",
    "# Calcular el momento magnético para cada par de corriente y ángulo\n",
    "momentos_magneticos = k * corrientes * angulos\n",
    "\n",
    "# Calcular el promedio del momento magnético\n",
    "promedio_momento_magnetico = np.mean(momentos_magneticos)\n",
    "\n",
    "# Imprimir el momento magnético para cada par de corriente y ángulo\n",
    "for i, corriente in enumerate(corrientes):\n",
    "    angulo = angulos[i]\n",
    "    momento_magnetico = momentos_magneticos[i]\n",
    "    print(f'Corriente: {corriente} A, Ángulo: {angulo} rad, Momento Magnético: {momento_magnetico:.2f} Am²')\n",
    "\n",
    "# Imprimir el promedio del momento magnético del oscilador\n",
    "print(f'Promedio del Momento Magnético del Oscilador: {promedio_momento_magnetico:.2f} Am²')\n"
   ]
  },
  {
   "cell_type": "code",
   "execution_count": null,
   "metadata": {},
   "outputs": [],
   "source": []
  }
 ],
 "metadata": {
  "kernelspec": {
   "display_name": "Python 3",
   "language": "python",
   "name": "python3"
  },
  "language_info": {
   "codemirror_mode": {
    "name": "ipython",
    "version": 3
   },
   "file_extension": ".py",
   "mimetype": "text/x-python",
   "name": "python",
   "nbconvert_exporter": "python",
   "pygments_lexer": "ipython3",
   "version": "3.8.3"
  }
 },
 "nbformat": 4,
 "nbformat_minor": 4
}
